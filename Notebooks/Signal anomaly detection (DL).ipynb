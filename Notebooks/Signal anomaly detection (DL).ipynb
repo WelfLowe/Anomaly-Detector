{
 "cells": [
  {
   "cell_type": "code",
   "execution_count": 13,
   "metadata": {},
   "outputs": [],
   "source": [
    "#!pip install tensorflow --upgrade"
   ]
  },
  {
   "cell_type": "code",
   "execution_count": 110,
   "metadata": {},
   "outputs": [],
   "source": [
    "import numpy as np\n",
    "from sklearn.utils import resample\n",
    "from sklearn.model_selection import train_test_split\n",
    "import tensorflow as tf\n",
    "from tensorflow.keras.models import Sequential\n",
    "from tensorflow.keras.layers import LSTM, Dense, RepeatVector, TimeDistributed, BatchNormalization\n",
    "from tensorflow.keras import optimizers, initializers\n",
    "\n",
    "from sklearn.preprocessing import StandardScaler\n",
    "from sklearn.metrics import roc_auc_score, accuracy_score\n",
    "import matplotlib.pyplot as plt"
   ]
  },
  {
   "cell_type": "code",
   "execution_count": 15,
   "metadata": {},
   "outputs": [],
   "source": [
    "tf.config.optimizer.set_jit(True)"
   ]
  },
  {
   "cell_type": "markdown",
   "metadata": {},
   "source": [
    "Step 1: Load the data"
   ]
  },
  {
   "cell_type": "code",
   "execution_count": 16,
   "metadata": {},
   "outputs": [],
   "source": [
    "# data.shape = (K, N), labels.shape = (1000,)\n",
    "# data: 1000 K time series, each with N timesteps\n",
    "# labels: N labels (0-good or 1-outlier), corresponding to each time series\n",
    "name = \"testCase0\"\n",
    "data = np.load(name+\".npy\")\n",
    "labels = np.load(name+\"_labels.npy\")\n",
    "K = data.shape[0]\n",
    "N = data.shape[1]"
   ]
  },
  {
   "cell_type": "markdown",
   "metadata": {},
   "source": [
    "### Supervised RNN"
   ]
  },
  {
   "cell_type": "markdown",
   "metadata": {},
   "source": [
    "Step 2: Reshape and Oversample the Minority Class"
   ]
  },
  {
   "cell_type": "code",
   "execution_count": 17,
   "metadata": {},
   "outputs": [],
   "source": [
    "# Assume `data` is the (K, N) numpy matrix with time series and `labels` is the (N,) label array\n",
    "data = data.reshape(K, N, 1)\n",
    "\n",
    "# Separate majority and minority classes\n",
    "good_data = data[labels == 0]\n",
    "bad_data = data[labels == 1]\n",
    "\n",
    "good_labels = labels[labels == 0]\n",
    "bad_labels = labels[labels == 1]\n",
    "\n",
    "# Oversample the minority class (bad_data)\n",
    "bad_data_oversampled, bad_labels_oversampled = resample(bad_data, bad_labels,\n",
    "                                                        replace=True,  # Allow resampling with replacement\n",
    "                                                        n_samples=len(good_data),  # Match the number of \"good\" data points\n",
    "                                                        random_state=42)\n",
    "\n",
    "# Combine the oversampled data with the majority class data\n",
    "data_oversampled = np.vstack((good_data, bad_data_oversampled))\n",
    "labels_oversampled = np.hstack((good_labels, bad_labels_oversampled))\n",
    "\n",
    "# Shuffle the data to ensure random ordering\n",
    "indices = np.random.permutation(len(labels_oversampled))\n",
    "data_oversampled = data_oversampled[indices]\n",
    "labels_oversampled = labels_oversampled[indices]"
   ]
  },
  {
   "cell_type": "markdown",
   "metadata": {},
   "source": [
    "Step 3: Train-Test Split and Data Standardization"
   ]
  },
  {
   "cell_type": "code",
   "execution_count": 18,
   "metadata": {},
   "outputs": [],
   "source": [
    "# Split the oversampled data into training and testing sets\n",
    "X_train, X_test, y_train, y_test = train_test_split(data_oversampled, labels_oversampled, test_size=0.2, random_state=42)\n",
    "\n",
    "# Scale the data (fit only on training data to avoid data leakage)\n",
    "scaler = StandardScaler()\n",
    "\n",
    "# Reshape data to 2D for scaling, then back to original shape\n",
    "X_train_reshaped = X_train.reshape(-1, X_train.shape[-1])\n",
    "X_test_reshaped = X_test.reshape(-1, X_test.shape[-1])\n",
    "\n",
    "X_train_scaled = scaler.fit_transform(X_train_reshaped).reshape(X_train.shape)\n",
    "X_test_scaled = scaler.transform(X_test_reshaped).reshape(X_test.shape)"
   ]
  },
  {
   "cell_type": "markdown",
   "metadata": {},
   "source": [
    "Step 4: Build the LSTM-based Classifier"
   ]
  },
  {
   "cell_type": "code",
   "execution_count": 19,
   "metadata": {},
   "outputs": [
    {
     "name": "stdout",
     "output_type": "stream",
     "text": [
      "Model: \"sequential_1\"\n",
      "_________________________________________________________________\n",
      "Layer (type)                 Output Shape              Param #   \n",
      "=================================================================\n",
      "lstm_2 (LSTM)                (None, 500, 128)          66560     \n",
      "_________________________________________________________________\n",
      "lstm_3 (LSTM)                (None, 64)                49408     \n",
      "_________________________________________________________________\n",
      "dense_2 (Dense)              (None, 32)                2080      \n",
      "_________________________________________________________________\n",
      "dense_3 (Dense)              (None, 1)                 33        \n",
      "=================================================================\n",
      "Total params: 118,081\n",
      "Trainable params: 118,081\n",
      "Non-trainable params: 0\n",
      "_________________________________________________________________\n"
     ]
    }
   ],
   "source": [
    "# Build a Sequential model with LSTM layers\n",
    "model = Sequential()\n",
    "\n",
    "# Add an LSTM layer\n",
    "model.add(LSTM(128, input_shape=(N, 1), return_sequences=True))  # LSTM for sequence data\n",
    "model.add(LSTM(64, input_shape=(N, 1), return_sequences=False))  # LSTM for sequence data\n",
    "model.add(Dense(32, activation='relu'))  # Fully connected layer with 32 units\n",
    "model.add(Dense(1, activation='sigmoid'))  # Output layer for binary classification\n",
    "\n",
    "# Compile the model with binary crossentropy loss and Adam optimizer\n",
    "model.compile(optimizer='adam', loss='binary_crossentropy', metrics=['accuracy'])\n",
    "\n",
    "# Summary of the model\n",
    "model.summary()"
   ]
  },
  {
   "cell_type": "markdown",
   "metadata": {},
   "source": [
    "Step 5: Train the Model"
   ]
  },
  {
   "cell_type": "code",
   "execution_count": 20,
   "metadata": {},
   "outputs": [
    {
     "name": "stdout",
     "output_type": "stream",
     "text": [
      "Epoch 1/50\n"
     ]
    },
    {
     "name": "stderr",
     "output_type": "stream",
     "text": [
      "2024-09-19 15:02:52.492405: W tensorflow/compiler/jit/mark_for_compilation_pass.cc:1652] (One-time warning): Not using XLA:CPU for cluster because envvar TF_XLA_FLAGS=--tf_xla_cpu_global_jit was not set.  If you want XLA:CPU, either set that envvar, or use experimental_jit_scope to enable XLA:CPU.  To confirm that XLA is active, pass --vmodule=xla_compilation_cache=1 (as a proper command-line flag, not via TF_XLA_FLAGS) or set the envvar XLA_FLAGS=--xla_hlo_profile.\n"
     ]
    },
    {
     "name": "stdout",
     "output_type": "stream",
     "text": [
      "107/107 [==============================] - 321s 3s/step - loss: 0.6085 - accuracy: 0.6631 - val_loss: 0.5484 - val_accuracy: 0.7395\n",
      "Epoch 2/50\n",
      "107/107 [==============================] - 365s 3s/step - loss: 0.5554 - accuracy: 0.7183 - val_loss: 0.5783 - val_accuracy: 0.6868\n",
      "Epoch 3/50\n",
      "107/107 [==============================] - 383s 4s/step - loss: 0.5397 - accuracy: 0.7311 - val_loss: 0.6085 - val_accuracy: 0.6961\n",
      "Epoch 4/50\n",
      "107/107 [==============================] - 391s 4s/step - loss: 0.5330 - accuracy: 0.7243 - val_loss: 0.4896 - val_accuracy: 0.7572\n",
      "Epoch 5/50\n",
      "107/107 [==============================] - 390s 4s/step - loss: 0.5001 - accuracy: 0.7506 - val_loss: 0.4946 - val_accuracy: 0.7625\n",
      "Epoch 6/50\n",
      "107/107 [==============================] - 407s 4s/step - loss: 0.4982 - accuracy: 0.7548 - val_loss: 0.4734 - val_accuracy: 0.7625\n",
      "Epoch 7/50\n",
      "107/107 [==============================] - 416s 4s/step - loss: 0.4936 - accuracy: 0.7648 - val_loss: 0.4571 - val_accuracy: 0.7750\n",
      "Epoch 8/50\n",
      "107/107 [==============================] - 382s 4s/step - loss: 0.4722 - accuracy: 0.7738 - val_loss: 0.4901 - val_accuracy: 0.7467\n",
      "Epoch 9/50\n",
      "107/107 [==============================] - 389s 4s/step - loss: 0.4685 - accuracy: 0.7764 - val_loss: 0.4547 - val_accuracy: 0.7921\n",
      "Epoch 10/50\n",
      "107/107 [==============================] - 361s 3s/step - loss: 0.4546 - accuracy: 0.7846 - val_loss: 0.4569 - val_accuracy: 0.7816\n",
      "Epoch 11/50\n",
      "107/107 [==============================] - 368s 3s/step - loss: 0.4507 - accuracy: 0.7870 - val_loss: 0.4444 - val_accuracy: 0.7954\n",
      "Epoch 12/50\n",
      "107/107 [==============================] - 364s 3s/step - loss: 0.4518 - accuracy: 0.7835 - val_loss: 0.4346 - val_accuracy: 0.7941\n",
      "Epoch 13/50\n",
      "107/107 [==============================] - 350s 3s/step - loss: 0.4396 - accuracy: 0.7887 - val_loss: 0.4393 - val_accuracy: 0.8072\n",
      "Epoch 14/50\n",
      "107/107 [==============================] - 353s 3s/step - loss: 0.4375 - accuracy: 0.7914 - val_loss: 0.4296 - val_accuracy: 0.8000\n",
      "Epoch 15/50\n",
      "107/107 [==============================] - 367s 3s/step - loss: 0.4379 - accuracy: 0.7907 - val_loss: 0.4228 - val_accuracy: 0.8132\n",
      "Epoch 16/50\n",
      "107/107 [==============================] - 349s 3s/step - loss: 0.4251 - accuracy: 0.7963 - val_loss: 0.4594 - val_accuracy: 0.7776\n",
      "Epoch 17/50\n",
      "107/107 [==============================] - 341s 3s/step - loss: 0.4189 - accuracy: 0.8012 - val_loss: 0.4199 - val_accuracy: 0.8013\n",
      "Epoch 18/50\n",
      "107/107 [==============================] - 376s 4s/step - loss: 0.4069 - accuracy: 0.8098 - val_loss: 0.3954 - val_accuracy: 0.8276\n",
      "Epoch 19/50\n",
      "107/107 [==============================] - 343s 3s/step - loss: 0.4018 - accuracy: 0.8107 - val_loss: 0.4056 - val_accuracy: 0.8125\n",
      "Epoch 20/50\n",
      "107/107 [==============================] - 384s 4s/step - loss: 0.3911 - accuracy: 0.8142 - val_loss: 0.3983 - val_accuracy: 0.8250\n",
      "Epoch 21/50\n",
      "107/107 [==============================] - 382s 4s/step - loss: 0.3917 - accuracy: 0.8205 - val_loss: 0.4084 - val_accuracy: 0.8059\n",
      "Epoch 22/50\n",
      "107/107 [==============================] - 312s 3s/step - loss: 0.3824 - accuracy: 0.8233 - val_loss: 0.3692 - val_accuracy: 0.8322\n",
      "Epoch 23/50\n",
      "107/107 [==============================] - 330s 3s/step - loss: 0.3602 - accuracy: 0.8368 - val_loss: 0.3637 - val_accuracy: 0.8368\n",
      "Epoch 24/50\n",
      "107/107 [==============================] - 352s 3s/step - loss: 0.3619 - accuracy: 0.8371 - val_loss: 0.3936 - val_accuracy: 0.8237\n",
      "Epoch 25/50\n",
      "107/107 [==============================] - 378s 4s/step - loss: 0.3573 - accuracy: 0.8395 - val_loss: 0.3603 - val_accuracy: 0.8342\n",
      "Epoch 26/50\n",
      "107/107 [==============================] - 361s 3s/step - loss: 0.3384 - accuracy: 0.8523 - val_loss: 0.3371 - val_accuracy: 0.8632\n",
      "Epoch 27/50\n",
      "107/107 [==============================] - 348s 3s/step - loss: 0.3481 - accuracy: 0.8481 - val_loss: 0.3223 - val_accuracy: 0.8625\n",
      "Epoch 28/50\n",
      "107/107 [==============================] - 371s 3s/step - loss: 0.3056 - accuracy: 0.8685 - val_loss: 0.3162 - val_accuracy: 0.8618\n",
      "Epoch 29/50\n",
      "107/107 [==============================] - 413s 4s/step - loss: 0.3146 - accuracy: 0.8678 - val_loss: 0.4031 - val_accuracy: 0.8072\n",
      "Epoch 30/50\n",
      "107/107 [==============================] - 391s 4s/step - loss: 0.3139 - accuracy: 0.8677 - val_loss: 0.2203 - val_accuracy: 0.9066\n",
      "Epoch 31/50\n",
      "107/107 [==============================] - 384s 4s/step - loss: 0.6318 - accuracy: 0.6530 - val_loss: 0.5822 - val_accuracy: 0.6849\n",
      "Epoch 32/50\n",
      "107/107 [==============================] - 392s 4s/step - loss: 0.5542 - accuracy: 0.7086 - val_loss: 0.4637 - val_accuracy: 0.8112\n",
      "Epoch 33/50\n",
      "107/107 [==============================] - 380s 4s/step - loss: 0.5194 - accuracy: 0.7318 - val_loss: 0.2245 - val_accuracy: 0.9250\n",
      "Epoch 34/50\n",
      "107/107 [==============================] - 395s 4s/step - loss: 0.7292 - accuracy: 0.5510 - val_loss: 0.6801 - val_accuracy: 0.5322\n",
      "Epoch 35/50\n",
      "107/107 [==============================] - 381s 4s/step - loss: 0.6402 - accuracy: 0.6522 - val_loss: 0.5844 - val_accuracy: 0.6947\n",
      "Epoch 36/50\n",
      "107/107 [==============================] - 375s 4s/step - loss: 0.6593 - accuracy: 0.6101 - val_loss: 0.5698 - val_accuracy: 0.7368\n",
      "Epoch 37/50\n",
      "107/107 [==============================] - 377s 4s/step - loss: 0.4725 - accuracy: 0.7550 - val_loss: 0.6152 - val_accuracy: 0.6901\n",
      "Epoch 38/50\n",
      "107/107 [==============================] - 368s 3s/step - loss: 0.6385 - accuracy: 0.6270 - val_loss: 0.5584 - val_accuracy: 0.7178\n",
      "Epoch 39/50\n",
      "107/107 [==============================] - 373s 3s/step - loss: 0.5692 - accuracy: 0.7076 - val_loss: 0.5582 - val_accuracy: 0.7480\n",
      "Epoch 40/50\n",
      "107/107 [==============================] - 347s 3s/step - loss: 0.4571 - accuracy: 0.7907 - val_loss: 0.5080 - val_accuracy: 0.7816\n",
      "119/119 [==============================] - 262s 2s/step - loss: 0.2326 - accuracy: 0.9061\n",
      "Test Accuracy: 0.9061\n"
     ]
    }
   ],
   "source": [
    "early_stopping = tf.keras.callbacks.EarlyStopping(monitor='val_loss', patience=10, restore_best_weights=True)\n",
    "\n",
    "# Train the model\n",
    "history = model.fit(X_train_scaled, y_train, epochs=50, batch_size=128, validation_split=0.1, callbacks=[early_stopping])\n",
    "\n",
    "# Evaluate the model on the test set\n",
    "test_loss, test_accuracy = model.evaluate(X_test_scaled, y_test)\n",
    "print(f'Test Accuracy: {test_accuracy:.4f}')\n"
   ]
  },
  {
   "cell_type": "code",
   "execution_count": 103,
   "metadata": {},
   "outputs": [],
   "source": [
    "# Plot the training and validation loss over epochs\n",
    "def plot_history(history, plus_accuracy = True):\n",
    "    # Get the values from the history object\n",
    "    loss = history.history['loss']\n",
    "    val_loss = history.history['val_loss']    \n",
    "    epochs = range(1, len(loss) + 1)\n",
    "    \n",
    "    # Plot Loss\n",
    "    plt.figure(figsize=(14, 6))\n",
    "\n",
    "    # Subplot 1: Loss\n",
    "    plt.subplot(1, 2, 1)\n",
    "    plt.plot(epochs, loss, 'bo', label='Training loss')\n",
    "    plt.plot(epochs, val_loss, 'b', label='Validation loss')\n",
    "    plt.title('Training and Validation Loss')\n",
    "    plt.xlabel('Epochs')\n",
    "    plt.ylabel('Loss')\n",
    "    plt.legend()\n",
    "\n",
    "    # Subplot 2: Accuracy\n",
    "    if plus_accuracy:\n",
    "        accuracy = history.history['accuracy']\n",
    "        val_accuracy = history.history['val_accuracy']\n",
    "\n",
    "        plt.subplot(1, 2, 2)\n",
    "        plt.plot(epochs, accuracy, 'bo', label='Training accuracy')\n",
    "        plt.plot(epochs, val_accuracy, 'b', label='Validation accuracy')\n",
    "        plt.title('Training and Validation Accuracy')\n",
    "        plt.xlabel('Epochs')\n",
    "        plt.ylabel('Accuracy')\n",
    "        plt.legend()\n",
    "\n",
    "    # Display the plots\n",
    "    plt.tight_layout()\n",
    "    plt.show()"
   ]
  },
  {
   "cell_type": "code",
   "execution_count": null,
   "metadata": {},
   "outputs": [],
   "source": [
    "# Call the plot_history function to visualize the training process\n",
    "plot_history(history)"
   ]
  },
  {
   "cell_type": "code",
   "execution_count": 22,
   "metadata": {},
   "outputs": [],
   "source": [
    "name = \"val_testCase0\"\n",
    "val_data = np.load(name+\".npy\")\n",
    "val_labels = np.load(name+\"_labels.npy\")\n",
    "val_K = val_data.shape[0]"
   ]
  },
  {
   "cell_type": "code",
   "execution_count": 23,
   "metadata": {},
   "outputs": [],
   "source": [
    "val_data = val_data.reshape(val_K, N, 1)\n",
    "X_val_reshaped = val_data.reshape(-1, val_data.shape[-1])\n",
    "X_val_scaled = scaler.transform(X_val_reshaped).reshape(val_data.shape)"
   ]
  },
  {
   "cell_type": "code",
   "execution_count": 24,
   "metadata": {},
   "outputs": [
    {
     "name": "stdout",
     "output_type": "stream",
     "text": [
      "32/32 [==============================] - 67s 2s/step - loss: 0.2678 - accuracy: 0.8880\n",
      "Validation Accuracy: 0.8880\n",
      "WARNING:tensorflow:AutoGraph could not transform <function Model.make_predict_function.<locals>.predict_function at 0x7f7aa81aae60> and will run it as-is.\n",
      "Please report this to the TensorFlow team. When filing the bug, set the verbosity to 10 (on Linux, `export AUTOGRAPH_VERBOSITY=10`) and attach the full output.\n",
      "Cause: closure mismatch, requested ('self', 'step_function'), but source function had ()\n",
      "To silence this warning, decorate the function with @tf.autograph.experimental.do_not_convert\n",
      "WARNING: AutoGraph could not transform <function Model.make_predict_function.<locals>.predict_function at 0x7f7aa81aae60> and will run it as-is.\n",
      "Please report this to the TensorFlow team. When filing the bug, set the verbosity to 10 (on Linux, `export AUTOGRAPH_VERBOSITY=10`) and attach the full output.\n",
      "Cause: closure mismatch, requested ('self', 'step_function'), but source function had ()\n",
      "To silence this warning, decorate the function with @tf.autograph.experimental.do_not_convert\n",
      "Validation AUROC: 0.8945\n"
     ]
    }
   ],
   "source": [
    "val_loss, val_accuracy = model.evaluate(X_val_scaled, val_labels)\n",
    "print(f'Validation Accuracy: {val_accuracy:.4f}')\n",
    "\n",
    "# Predict probabilities on the validation set\n",
    "y_val_pred_probs = model.predict(X_val_scaled)\n",
    "\n",
    "# Compute AUROC\n",
    "val_auroc = roc_auc_score(val_labels, y_val_pred_probs)\n",
    "print(f'Validation AUROC: {val_auroc:.4f}')"
   ]
  },
  {
   "cell_type": "markdown",
   "metadata": {},
   "source": [
    "### Unsupervised RNN (autoencoder)"
   ]
  },
  {
   "cell_type": "code",
   "execution_count": 86,
   "metadata": {},
   "outputs": [
    {
     "data": {
      "text/plain": [
       "(10000, 500, 1)"
      ]
     },
     "execution_count": 86,
     "metadata": {},
     "output_type": "execute_result"
    }
   ],
   "source": [
    "np.random.shuffle(data)\n",
    "data.shape"
   ]
  },
  {
   "cell_type": "code",
   "execution_count": 87,
   "metadata": {},
   "outputs": [],
   "source": [
    "KG = data.shape[0]"
   ]
  },
  {
   "cell_type": "markdown",
   "metadata": {},
   "source": [
    "Test both scaling and normalization."
   ]
  },
  {
   "cell_type": "code",
   "execution_count": 88,
   "metadata": {},
   "outputs": [],
   "source": [
    "scaler_auto = StandardScaler()\n",
    "data_scaled = scaler_auto.fit_transform(data.reshape(-1, 1)).reshape(KG, N, 1)\n",
    "data_norm = (data - data.min()) / (data.max() - data.min())"
   ]
  },
  {
   "cell_type": "markdown",
   "metadata": {},
   "source": [
    "Check for NaN and inf "
   ]
  },
  {
   "cell_type": "code",
   "execution_count": 89,
   "metadata": {},
   "outputs": [
    {
     "name": "stdout",
     "output_type": "stream",
     "text": [
      "0\n",
      "0\n",
      "0\n",
      "0\n"
     ]
    }
   ],
   "source": [
    "print(np.isnan(data_scaled).sum())  # Check for NaN values\n",
    "print(np.isinf(data_scaled).sum())  # Check for infinite values\n",
    "print(np.isnan(data_norm).sum())  # Check for NaN values\n",
    "print(np.isinf(data_norm).sum())  # Check for infinite values"
   ]
  },
  {
   "cell_type": "markdown",
   "metadata": {},
   "source": [
    "Check \n",
    "- Adam and RMSprop\n",
    "- learning_rate=1e-4, learning_rate=1e-5\n",
    "- clipnorm=1.0, clipvalue=1.0\n",
    "- different batch sizes\n",
    "- batch normalization"
   ]
  },
  {
   "cell_type": "code",
   "execution_count": 94,
   "metadata": {},
   "outputs": [],
   "source": [
    "# Define the Autoencoder model (LSTM-based)\n",
    "model = Sequential()\n",
    "model.add(LSTM(64, activation='relu', input_shape=(N, 1), return_sequences=False))\n",
    "model.add(BatchNormalization())\n",
    "model.add(RepeatVector(N))  # Repeat vector to match the input shape for decoding\n",
    "model.add(LSTM(64, activation='relu', return_sequences=True))\n",
    "model.add(TimeDistributed(Dense(1)))  # Output layer with the same time steps\n",
    "\n",
    "# Compile the model\n",
    "# optimizers.Adam\n",
    "model.compile(optimizer=optimizers.RMSprop(learning_rate=1e-5, clipnorm=1.0), loss='mse')\n",
    "\n",
    "# Summary of the model\n",
    "model.summary()"
   ]
  },
  {
   "cell_type": "code",
   "execution_count": 95,
   "metadata": {},
   "outputs": [
    {
     "name": "stdout",
     "output_type": "stream",
     "text": [
      "Epoch 1/50\n",
      "71/71 [==============================] - 62s 847ms/step - loss: 0.2340 - val_loss: 0.2802\n",
      "Epoch 2/50\n",
      "71/71 [==============================] - 58s 812ms/step - loss: 0.2109 - val_loss: 0.2704\n",
      "Epoch 3/50\n",
      "71/71 [==============================] - 56s 789ms/step - loss: 0.1900 - val_loss: 0.2585\n",
      "Epoch 4/50\n",
      "71/71 [==============================] - 59s 832ms/step - loss: 0.1708 - val_loss: 0.2442\n",
      "Epoch 5/50\n",
      "71/71 [==============================] - 56s 791ms/step - loss: 0.1529 - val_loss: 0.2257\n",
      "Epoch 6/50\n",
      "71/71 [==============================] - 60s 850ms/step - loss: 0.1369 - val_loss: 0.2021\n",
      "Epoch 7/50\n",
      "71/71 [==============================] - 63s 887ms/step - loss: 0.1220 - val_loss: 0.1726\n",
      "Epoch 8/50\n",
      "71/71 [==============================] - 58s 813ms/step - loss: 0.1094 - val_loss: 0.1396\n",
      "Epoch 9/50\n",
      "71/71 [==============================] - 57s 797ms/step - loss: 0.0992 - val_loss: 0.1100\n",
      "Epoch 10/50\n",
      "71/71 [==============================] - 59s 830ms/step - loss: 0.0911 - val_loss: 0.0904\n",
      "Epoch 11/50\n",
      "71/71 [==============================] - 59s 832ms/step - loss: 0.0844 - val_loss: 0.0810\n",
      "Epoch 12/50\n",
      "71/71 [==============================] - 61s 859ms/step - loss: 0.0787 - val_loss: 0.0746\n",
      "Epoch 13/50\n",
      "71/71 [==============================] - 57s 798ms/step - loss: 0.0726 - val_loss: 0.0693\n",
      "Epoch 14/50\n",
      "71/71 [==============================] - 58s 823ms/step - loss: 0.0669 - val_loss: 0.0635\n",
      "Epoch 15/50\n",
      "71/71 [==============================] - 50s 706ms/step - loss: 0.0610 - val_loss: 0.0581\n",
      "Epoch 16/50\n",
      "71/71 [==============================] - 58s 823ms/step - loss: 0.0549 - val_loss: 0.0523\n",
      "Epoch 17/50\n",
      "71/71 [==============================] - 55s 774ms/step - loss: 0.0487 - val_loss: 0.0464\n",
      "Epoch 18/50\n",
      "71/71 [==============================] - 55s 780ms/step - loss: 0.0426 - val_loss: 0.0406\n",
      "Epoch 19/50\n",
      "71/71 [==============================] - 50s 710ms/step - loss: 0.0369 - val_loss: 0.0354\n",
      "Epoch 20/50\n",
      "71/71 [==============================] - 49s 691ms/step - loss: 0.0320 - val_loss: 0.0311\n",
      "Epoch 21/50\n",
      "71/71 [==============================] - 51s 718ms/step - loss: 0.0287 - val_loss: 0.0281\n",
      "Epoch 22/50\n",
      "71/71 [==============================] - 54s 765ms/step - loss: 0.0269 - val_loss: 0.0267\n",
      "Epoch 23/50\n",
      "71/71 [==============================] - 57s 799ms/step - loss: 0.0262 - val_loss: 0.0260\n",
      "Epoch 24/50\n",
      "71/71 [==============================] - 59s 828ms/step - loss: 0.0260 - val_loss: 0.0257\n",
      "Epoch 25/50\n",
      "71/71 [==============================] - 56s 786ms/step - loss: 0.0259 - val_loss: 0.0256\n",
      "Epoch 26/50\n",
      "71/71 [==============================] - 62s 875ms/step - loss: 0.0258 - val_loss: 0.0255\n",
      "Epoch 27/50\n",
      "71/71 [==============================] - 60s 841ms/step - loss: 0.0257 - val_loss: 0.0254\n",
      "Epoch 28/50\n",
      "71/71 [==============================] - 61s 858ms/step - loss: 0.0257 - val_loss: 0.0254\n",
      "Epoch 29/50\n",
      "71/71 [==============================] - 63s 895ms/step - loss: 0.0256 - val_loss: 0.0254\n",
      "Epoch 30/50\n",
      "71/71 [==============================] - 60s 841ms/step - loss: 0.0256 - val_loss: 0.0253\n",
      "Epoch 31/50\n",
      "71/71 [==============================] - 59s 829ms/step - loss: 0.0256 - val_loss: 0.0253\n",
      "Epoch 32/50\n",
      "71/71 [==============================] - 55s 781ms/step - loss: 0.0256 - val_loss: 0.0253\n",
      "Epoch 33/50\n",
      "71/71 [==============================] - 60s 852ms/step - loss: 0.0255 - val_loss: 0.0253\n",
      "Epoch 34/50\n",
      "71/71 [==============================] - 54s 764ms/step - loss: 0.0255 - val_loss: 0.0252\n",
      "Epoch 35/50\n",
      "71/71 [==============================] - 67s 954ms/step - loss: 0.0255 - val_loss: 0.0252\n",
      "Epoch 36/50\n",
      "71/71 [==============================] - 59s 826ms/step - loss: 0.0255 - val_loss: 0.0252\n",
      "Epoch 37/50\n",
      "71/71 [==============================] - 60s 843ms/step - loss: 0.0255 - val_loss: 0.0252\n",
      "Epoch 38/50\n",
      "71/71 [==============================] - 57s 811ms/step - loss: 0.0255 - val_loss: 0.0252\n",
      "Epoch 39/50\n",
      "71/71 [==============================] - 60s 849ms/step - loss: 0.0254 - val_loss: 0.0252\n",
      "Epoch 40/50\n",
      "71/71 [==============================] - 55s 779ms/step - loss: 0.0254 - val_loss: 0.0252\n",
      "Epoch 41/50\n",
      "71/71 [==============================] - 54s 756ms/step - loss: 0.0254 - val_loss: 0.0252\n",
      "Epoch 42/50\n",
      "71/71 [==============================] - 57s 798ms/step - loss: 0.0254 - val_loss: 0.0251\n",
      "Epoch 43/50\n",
      "71/71 [==============================] - 54s 753ms/step - loss: 0.0254 - val_loss: 0.0252\n",
      "Epoch 44/50\n",
      "71/71 [==============================] - 54s 756ms/step - loss: 0.0254 - val_loss: 0.0251\n",
      "Epoch 45/50\n",
      "71/71 [==============================] - 57s 807ms/step - loss: 0.0254 - val_loss: 0.0251\n",
      "Epoch 46/50\n",
      "71/71 [==============================] - 57s 800ms/step - loss: 0.0254 - val_loss: 0.0251\n",
      "Epoch 47/50\n",
      "71/71 [==============================] - 54s 761ms/step - loss: 0.0254 - val_loss: 0.0251\n",
      "Epoch 48/50\n",
      "71/71 [==============================] - 59s 834ms/step - loss: 0.0254 - val_loss: 0.0251\n",
      "Epoch 49/50\n",
      "71/71 [==============================] - 55s 770ms/step - loss: 0.0254 - val_loss: 0.0251\n",
      "Epoch 50/50\n",
      "71/71 [==============================] - 50s 703ms/step - loss: 0.0254 - val_loss: 0.0251\n"
     ]
    }
   ],
   "source": [
    "early_stopping = tf.keras.callbacks.EarlyStopping(monitor='val_loss', patience=5, restore_best_weights=True)\n",
    "\n",
    "# Train the model on the majority class (you can identify majority class data via labels or all data assuming unsupervised setting)\n",
    "history = model.fit(data_norm, data_norm, \n",
    "                    epochs=50, batch_size=128, validation_split=0.1, \n",
    "                    callbacks=[early_stopping])"
   ]
  },
  {
   "cell_type": "code",
   "execution_count": 104,
   "metadata": {},
   "outputs": [
    {
     "data": {
      "image/png": "[encoded data removed]",
      "text/plain": [
       "<Figure size 1400x600 with 1 Axes>"
      ]
     },
     "metadata": {},
     "output_type": "display_data"
    }
   ],
   "source": [
    "plot_history(history, False)"
   ]
  },
  {
   "cell_type": "code",
   "execution_count": 108,
   "metadata": {},
   "outputs": [],
   "source": [
    "# Predict the reconstructed data\n",
    "def get_anomalies(data, percentile):\n",
    "    reconstructed_data = model.predict(data)\n",
    "\n",
    "    # Calculate the reconstruction error\n",
    "    reconstruction_error = np.mean(np.power(data - reconstructed_data, 2), axis=1)\n",
    "\n",
    "    # Set a threshold for anomaly detection based on the reconstruction error\n",
    "    threshold = np.percentile(reconstruction_error, percentile)  # Example: top 5% highest errors are anomalies\n",
    "\n",
    "    # Classify time series as anomalies if their reconstruction error exceeds the threshold\n",
    "    # anomalies is a boolean array, where True indicates a likely \"bad\" time series\n",
    "    anomalies = reconstruction_error > threshold    \n",
    "    prediction_labels = np.where(anomalies, 0, 1)\n",
    "    \n",
    "    return prediction_labels, reconstruction_error "
   ]
  },
  {
   "cell_type": "code",
   "execution_count": 111,
   "metadata": {},
   "outputs": [
    {
     "name": "stdout",
     "output_type": "stream",
     "text": [
      "Validation Accuracy: 0.9080\n",
      "Validation AUROC: 0.5812\n"
     ]
    }
   ],
   "source": [
    "X_val_scaled = scaler_auto.transform(val_data.reshape(-1, val_data.shape[-1])).reshape(val_data.shape)\n",
    "X_val_norm = (val_data - data.min()) / (data.max() - data.min())\n",
    "\n",
    "y_val_pred, y_val_pred_probs = get_anomalies(X_val_norm, 95)\n",
    "val_accuracy = accuracy_score(val_labels, y_val_pred)    \n",
    "print(f'Validation Accuracy: {val_accuracy:.4f}')\n",
    "val_auroc = roc_auc_score(val_labels, y_val_pred_probs)\n",
    "print(f'Validation AUROC: {val_auroc:.4f}')"
   ]
  },
  {
   "cell_type": "markdown",
   "metadata": {},
   "source": [
    "### Short window classifier"
   ]
  },
  {
   "cell_type": "code",
   "execution_count": 144,
   "metadata": {},
   "outputs": [],
   "source": [
    "def sliding_window(dataset, history_size, label:int):\n",
    "    data = []\n",
    "    labels = []\n",
    "    start_index = history_size\n",
    "    end_index = len(dataset[0])    \n",
    "    for c in range(len(dataset)):\n",
    "        for i in range(start_index, end_index):\n",
    "            indices = range(i-history_size, i)\n",
    "            # Reshape data from (history_size,) to (history_size, 1)\n",
    "            data.append(np.reshape(dataset[c][indices], (history_size, 1)))\n",
    "            labels.append(label)\n",
    "    return np.array(data), np.array(labels)"
   ]
  },
  {
   "cell_type": "code",
   "execution_count": 151,
   "metadata": {},
   "outputs": [],
   "source": [
    "past_history = 200 #hours\n",
    "good_data_windows, good_labels_windows = sliding_window(good_data, past_history, 0)\n",
    "bad_data_windows, bad_labels_windows = sliding_window(bad_data, past_history, 1)"
   ]
  },
  {
   "cell_type": "code",
   "execution_count": 152,
   "metadata": {},
   "outputs": [],
   "source": [
    "# Oversample the minority class (bad_data)\n",
    "bad_data_windows_oversampled, bad_labels_windows_oversampled = resample(bad_data_windows, bad_labels_windows,\n",
    "                                                        replace=True,  # Allow resampling with replacement\n",
    "                                                        n_samples=len(good_data_windows),  # Match the number of \"good\" data points\n",
    "                                                        random_state=42)\n",
    "\n",
    "# Combine the oversampled data with the majority class data\n",
    "data_windows_oversampled = np.vstack((good_data_windows, bad_data_windows_oversampled))\n",
    "labels_windows_oversampled = np.hstack((good_labels_windows, bad_labels_windows_oversampled))\n",
    "\n",
    "# Shuffle the data to ensure random ordering\n",
    "indices = np.random.permutation(len(labels_windows_oversampled))\n",
    "data_windows_oversampled = data_windows_oversampled[indices]\n",
    "labels_windows_oversampled = labels_windows_oversampled[indices]"
   ]
  },
  {
   "cell_type": "code",
   "execution_count": 153,
   "metadata": {},
   "outputs": [
    {
     "data": {
      "text/plain": [
       "(5700000, 200, 1)"
      ]
     },
     "execution_count": 153,
     "metadata": {},
     "output_type": "execute_result"
    }
   ],
   "source": [
    "data_windows_oversampled.shape"
   ]
  },
  {
   "cell_type": "code",
   "execution_count": 154,
   "metadata": {},
   "outputs": [],
   "source": [
    "# Split the oversampled data into training and testing sets\n",
    "X_train, X_test, y_train, y_test = train_test_split(data_windows_oversampled, labels_windows_oversampled, test_size=0.2, random_state=42)\n",
    "\n",
    "# Scale the data (fit only on training data to avoid data leakage)\n",
    "scaler = StandardScaler()\n",
    "\n",
    "# Reshape data to 2D for scaling, then back to original shape\n",
    "X_train_reshaped = X_train.reshape(-1, X_train.shape[-1])\n",
    "X_test_reshaped = X_test.reshape(-1, X_test.shape[-1])\n",
    "\n",
    "X_train_scaled = scaler.fit_transform(X_train_reshaped).reshape(X_train.shape)\n",
    "X_test_scaled = scaler.transform(X_test_reshaped).reshape(X_test.shape)"
   ]
  },
  {
   "cell_type": "code",
   "execution_count": 160,
   "metadata": {},
   "outputs": [
    {
     "name": "stdout",
     "output_type": "stream",
     "text": [
      "Model: \"sequential_30\"\n",
      "_________________________________________________________________\n",
      "Layer (type)                 Output Shape              Param #   \n",
      "=================================================================\n",
      "lstm_55 (LSTM)               (None, 200, 128)          66560     \n",
      "_________________________________________________________________\n",
      "dense_33 (Dense)             (None, 200, 32)           4128      \n",
      "_________________________________________________________________\n",
      "dense_34 (Dense)             (None, 200, 1)            33        \n",
      "=================================================================\n",
      "Total params: 70,721\n",
      "Trainable params: 70,721\n",
      "Non-trainable params: 0\n",
      "_________________________________________________________________\n"
     ]
    }
   ],
   "source": [
    "# Build a Sequential model with LSTM layers\n",
    "model = Sequential()\n",
    "\n",
    "# Add an LSTM layer\n",
    "model.add(LSTM(128, input_shape=(past_history, 1), return_sequences=True))  # LSTM for sequence data\n",
    "model.add(Dense(32, activation='relu'))  # Fully connected layer with 32 units\n",
    "model.add(Dense(1, activation='sigmoid'))  # Output layer for binary classification\n",
    "\n",
    "# Compile the model with binary crossentropy loss and Adam optimizer\n",
    "model.compile(optimizer='adam', loss='binary_crossentropy', metrics=['accuracy'])\n",
    "\n",
    "# Summary of the model\n",
    "model.summary()"
   ]
  },
  {
   "cell_type": "code",
   "execution_count": 161,
   "metadata": {},
   "outputs": [
    {
     "name": "stdout",
     "output_type": "stream",
     "text": [
      "Epoch 1/50\n",
      "32063/32063 [==============================] - 19874s 620ms/step - loss: 0.4128 - accuracy: 0.7946 - val_loss: 0.3345 - val_accuracy: 0.8400\n",
      "Epoch 2/50\n",
      "32063/32063 [==============================] - 22003s 686ms/step - loss: 0.2895 - accuracy: 0.8623 - val_loss: 0.2616 - val_accuracy: 0.8757\n",
      "Epoch 3/50\n",
      "32063/32063 [==============================] - 22510s 702ms/step - loss: 0.2342 - accuracy: 0.8882 - val_loss: 0.2171 - val_accuracy: 0.8958\n",
      "Epoch 4/50\n",
      "32063/32063 [==============================] - 43702s 1s/step - loss: 0.2034 - accuracy: 0.9018 - val_loss: 0.1890 - val_accuracy: 0.9081\n",
      "Epoch 5/50\n",
      "  898/32063 [..............................] - ETA: 100:11:13 - loss: 0.1912 - accuracy: 0.9071"
     ]
    },
    {
     "name": "stderr",
     "output_type": "stream",
     "text": [
      "IOStream.flush timed out\n"
     ]
    },
    {
     "name": "stdout",
     "output_type": "stream",
     "text": [
      "32063/32063 [==============================] - 322741s 10s/step - loss: 0.1839 - accuracy: 0.9105 - val_loss: 0.1756 - val_accuracy: 0.9142\n",
      "Epoch 6/50\n",
      "32063/32063 [==============================] - 21323s 665ms/step - loss: 0.1706 - accuracy: 0.9164 - val_loss: 0.1637 - val_accuracy: 0.9195\n",
      "Epoch 7/50\n",
      "32063/32063 [==============================] - 22334s 697ms/step - loss: 0.1607 - accuracy: 0.9209 - val_loss: 0.1520 - val_accuracy: 0.9247\n",
      "Epoch 8/50\n",
      "32063/32063 [==============================] - 22878s 714ms/step - loss: 0.1525 - accuracy: 0.9247 - val_loss: 0.1577 - val_accuracy: 0.9235\n",
      "Epoch 9/50\n",
      "32063/32063 [==============================] - 27881s 870ms/step - loss: 0.1452 - accuracy: 0.9280 - val_loss: 0.1401 - val_accuracy: 0.9303\n",
      "Epoch 10/50\n",
      "32063/32063 [==============================] - 25271s 788ms/step - loss: 0.1396 - accuracy: 0.9306 - val_loss: 0.1392 - val_accuracy: 0.9308\n",
      "Epoch 11/50\n",
      "32063/32063 [==============================] - 23380s 729ms/step - loss: 0.1348 - accuracy: 0.9328 - val_loss: 0.1289 - val_accuracy: 0.9354\n",
      "Epoch 12/50\n",
      "32063/32063 [==============================] - 24988s 779ms/step - loss: 0.1300 - accuracy: 0.9350 - val_loss: 0.1279 - val_accuracy: 0.9359\n",
      "Epoch 13/50\n",
      "32063/32063 [==============================] - 23109s 721ms/step - loss: 0.1262 - accuracy: 0.9367 - val_loss: 0.1200 - val_accuracy: 0.9393\n",
      "Epoch 14/50\n",
      "32063/32063 [==============================] - 25084s 782ms/step - loss: 0.1227 - accuracy: 0.9383 - val_loss: 0.1187 - val_accuracy: 0.9399\n",
      "Epoch 15/50\n",
      "32063/32063 [==============================] - 23933s 746ms/step - loss: 0.1192 - accuracy: 0.9399 - val_loss: 0.1178 - val_accuracy: 0.9405\n",
      "Epoch 16/50\n",
      "32063/32063 [==============================] - 33616s 1s/step - loss: 0.1164 - accuracy: 0.9412 - val_loss: 0.1116 - val_accuracy: 0.9431\n",
      "Epoch 17/50\n",
      "32063/32063 [==============================] - 25278s 788ms/step - loss: 0.1137 - accuracy: 0.9424 - val_loss: 0.1155 - val_accuracy: 0.9420\n",
      "Epoch 18/50\n",
      "32063/32063 [==============================] - 27213s 849ms/step - loss: 0.1116 - accuracy: 0.9434 - val_loss: 0.1204 - val_accuracy: 0.9403\n",
      "Epoch 19/50\n",
      "32063/32063 [==============================] - 33445s 1s/step - loss: 0.1103 - accuracy: 0.9441 - val_loss: 0.1093 - val_accuracy: 0.9446\n",
      "Epoch 20/50\n",
      "32063/32063 [==============================] - 77888s 2s/step - loss: 0.5108 - accuracy: 0.7277 - val_loss: 0.5723 - val_accuracy: 0.6899\n",
      "Epoch 21/50\n",
      "32063/32063 [==============================] - 32853s 1s/step - loss: 0.5999 - accuracy: 0.6644 - val_loss: 0.6448 - val_accuracy: 0.6217\n",
      "Epoch 22/50\n",
      "32063/32063 [==============================] - 23913s 746ms/step - loss: 0.6217 - accuracy: 0.6438 - val_loss: 0.6229 - val_accuracy: 0.6422\n",
      "Epoch 23/50\n",
      "32063/32063 [==============================] - 25050s 781ms/step - loss: 0.6084 - accuracy: 0.6579 - val_loss: 0.6032 - val_accuracy: 0.6572\n",
      "Epoch 24/50\n",
      "32063/32063 [==============================] - 23544s 734ms/step - loss: 0.6026 - accuracy: 0.6623 - val_loss: 0.6104 - val_accuracy: 0.6632\n",
      "Epoch 25/50\n",
      "32063/32063 [==============================] - 24005s 749ms/step - loss: 0.6110 - accuracy: 0.6554 - val_loss: 0.5956 - val_accuracy: 0.6713\n",
      "Epoch 26/50\n",
      "32063/32063 [==============================] - 21333s 665ms/step - loss: 0.5975 - accuracy: 0.6653 - val_loss: 0.5938 - val_accuracy: 0.6676\n",
      "Epoch 27/50\n",
      "32063/32063 [==============================] - 21753s 678ms/step - loss: 0.5687 - accuracy: 0.6868 - val_loss: 0.5067 - val_accuracy: 0.7404\n",
      "Epoch 28/50\n",
      "32063/32063 [==============================] - 75821s 2s/step - loss: 0.4732 - accuracy: 0.7607 - val_loss: 0.4217 - val_accuracy: 0.7911\n",
      "Epoch 29/50\n",
      "32063/32063 [==============================] - 21437s 669ms/step - loss: 0.4509 - accuracy: 0.7704 - val_loss: 0.5568 - val_accuracy: 0.7026\n",
      "35625/35625 [==============================] - 2645s 74ms/step - loss: 0.1093 - accuracy: 0.9446\n",
      "Test Accuracy: 0.9446\n"
     ]
    }
   ],
   "source": [
    "early_stopping = tf.keras.callbacks.EarlyStopping(monitor='val_loss', patience=10, restore_best_weights=True)\n",
    "\n",
    "# Train the model\n",
    "history = model.fit(X_train_scaled, y_train, epochs=50, batch_size=128, validation_split=0.1, callbacks=[early_stopping])\n",
    "\n",
    "# Evaluate the model on the test set\n",
    "test_loss, test_accuracy = model.evaluate(X_test_scaled, y_test)\n",
    "print(f'Test Accuracy: {test_accuracy:.4f}')"
   ]
  },
  {
   "cell_type": "code",
   "execution_count": null,
   "metadata": {},
   "outputs": [],
   "source": []
  }
 ],
 "metadata": {
  "kernelspec": {
   "display_name": "Python 3 (ipykernel)",
   "language": "python",
   "name": "python3"
  },
  "language_info": {
   "codemirror_mode": {
    "name": "ipython",
    "version": 3
   },
   "file_extension": ".py",
   "mimetype": "text/x-python",
   "name": "python",
   "nbconvert_exporter": "python",
   "pygments_lexer": "ipython3",
   "version": "3.7.4"
  }
 },
 "nbformat": 4,
 "nbformat_minor": 2
}
